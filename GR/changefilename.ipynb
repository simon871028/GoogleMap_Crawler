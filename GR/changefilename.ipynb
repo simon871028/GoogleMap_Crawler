{
 "metadata": {
  "language_info": {
   "codemirror_mode": {
    "name": "ipython",
    "version": 3
   },
   "file_extension": ".py",
   "mimetype": "text/x-python",
   "name": "python",
   "nbconvert_exporter": "python",
   "pygments_lexer": "ipython3",
   "version": "3.8.3-final"
  },
  "orig_nbformat": 2,
  "kernelspec": {
   "name": "python3",
   "display_name": "Python 3",
   "language": "python"
  }
 },
 "nbformat": 4,
 "nbformat_minor": 2,
 "cells": [
  {
   "cell_type": "code",
   "execution_count": 1,
   "metadata": {},
   "outputs": [],
   "source": [
    "import os\n",
    "import pandas as pd"
   ]
  },
  {
   "cell_type": "code",
   "execution_count": 2,
   "metadata": {},
   "outputs": [
    {
     "output_type": "execute_result",
     "data": {
      "text/plain": [
       "['全聯福利中心Pxmart 信義六合_所有評論.csv',\n",
       " '全聯福利中心Pxmart 台北東門_所有評論.csv',\n",
       " '全聯福利中心Pxmart 大安永康_所有評論.csv',\n",
       " '全聯福利中心Pxmart 文山景美_所有評論.csv',\n",
       " '全聯福利中心Pxmart 大同大龍_所有評論.csv',\n",
       " '.DS_Store',\n",
       " '全聯福利中心Pxmart 信義三興_所有評論.csv',\n",
       " '全聯福利中心Pxmart 文山興隆_所有評論.csv',\n",
       " '全聯福利中心Pxmart 民族西_所有評論.csv',\n",
       " '全聯福利中心Pxmart 中山建國北_所有評論.csv',\n",
       " '全聯福利中心Pxmart 松山三民_所有評論.csv',\n",
       " '全聯福利中心Pxmart 松山中崙_所有評論.csv',\n",
       " '全聯福利中心 (吉林店)_所有評論.csv',\n",
       " '全聯福利中心Pxmart 圓環_所有評論.csv',\n",
       " '全聯福利中心Pxmart 信義黎忠_所有評論.csv',\n",
       " '全聯福利中心Pxmart 民生社區_所有評論.csv',\n",
       " '全聯福利中心Pxmart 北市建國_所有評論.csv',\n",
       " '全聯福利中心Pxmart 大安北師_所有評論.csv',\n",
       " '全聯福利中心Pxmart 台北西藏_所有評論.csv',\n",
       " '全聯福利中心Pxmart 文山景興_所有評論.csv',\n",
       " '全聯福利中心Pxmart 中正同安_所有評論.csv',\n",
       " '全聯福利中心Pxmart 大安成功_所有評論.csv',\n",
       " '全聯福利中心Pxmart 信義林口_所有評論.csv',\n",
       " '全聯福利中心Pxmart 中山長春_所有評論.csv',\n",
       " '全聯福利中心Pxmart 中山朱崙_所有評論.csv',\n",
       " '全聯福利中心Pxmart 大安延吉_所有評論.csv',\n",
       " '全聯福利中心Pxmart 萬華雙園_所有評論.csv',\n",
       " '全聯福利中心Pxmart 信義嘉興_所有評論.csv',\n",
       " '全聯福利中心Pxmart 中正南昌_所有評論.csv',\n",
       " '全聯福利中心Pxmart 文山辛亥_所有評論.csv',\n",
       " '全聯福利中心Pxmart 松山民有_所有評論.csv',\n",
       " '全聯福利中心Pxmart 文山永建_所有評論.csv',\n",
       " '全聯福利中心Pxmart 中山南京_所有評論.csv',\n",
       " '全联福利中心Pxmart 大安黎元_所有評論.csv',\n",
       " '全聯福利中心Pxmart 大安敦南_所有評論.csv',\n",
       " '全聯福利中心Pxmart 中華_所有評論.csv',\n",
       " '全聯福利中心Pxmart 信義信安_所有評論.csv',\n",
       " '全聯福利中心Pxmart 大安樂利_所有評論.csv',\n",
       " '全聯福利中心Pxmart 松山吉祥_所有評論.csv',\n",
       " '全聯福利中心Pxmart 大安正聲_所有評論.csv',\n",
       " '全聯福利中心Pxmart 中山林森_所有評論.csv',\n",
       " '全聯福利中心Pxmart 文山羅斯福_所有評論.csv',\n",
       " '全聯福利中心Pxmart 文山福興_所有評論.csv',\n",
       " '全聯福利中心Pxmart 中山興安_所有評論.csv',\n",
       " '全聯福利中心Pxmart 文山萬年_所有評論.csv',\n",
       " '全聯福利中心Pxmart 信義松隆_所有評論.csv',\n",
       " '全聯福利中心Pxmart 西門町_所有評論.csv',\n",
       " '全聯福利中心Pxmart 信義松興_所有評論.csv',\n",
       " '全聯福利中心Pxmart 中山中安_所有評論.csv',\n",
       " '全聯福利中心Pxmart 中正華山_所有評論.csv',\n",
       " '全聯福利中心Pxmart 萬華萬大_所有評論.csv',\n",
       " '全聯福利中心Pxmart 大安民榮_所有評論.csv',\n",
       " '全聯福利中心Pxmart 信義莊敬_所有評論.csv',\n",
       " '全聯福利中心Pxmart 大安芳和_所有評論.csv',\n",
       " '全聯福利中心Pxmart 龍山店_所有評論.csv',\n",
       " '全聯福利中心Pxmart 士林後港_所有評論.csv',\n",
       " '全聯福利中心Pxmart 中正牯嶺店_所有評論.csv',\n",
       " '全聯福利中心Pxmart 松花_所有評論.csv',\n",
       " '全聯福利中心Pxmart 民生西店_所有評論.csv',\n",
       " '全聯福利中心Pxmart 大安_所有評論.csv',\n",
       " '全聯福利中心Pxmart 和德_所有評論.csv',\n",
       " '全聯福利中心Pxmart 大安居安_所有評論.csv',\n",
       " '全聯福利中心Pxmart 大安泰順_所有評論.csv',\n",
       " '全聯福利中心Pxmart 內湖文德_所有評論.csv']"
      ]
     },
     "metadata": {},
     "execution_count": 2
    }
   ],
   "source": [
    "\n",
    "file_list = os.listdir('./台北 全聯福利中心')\n",
    "file_list"
   ]
  },
  {
   "cell_type": "code",
   "execution_count": 3,
   "metadata": {},
   "outputs": [
    {
     "output_type": "execute_result",
     "data": {
      "text/plain": [
       "64"
      ]
     },
     "metadata": {},
     "execution_count": 3
    }
   ],
   "source": [
    "len(file_list)"
   ]
  },
  {
   "cell_type": "code",
   "execution_count": null,
   "metadata": {},
   "outputs": [],
   "source": []
  }
 ]
}